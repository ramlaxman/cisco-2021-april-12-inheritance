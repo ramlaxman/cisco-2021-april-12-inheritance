{
 "cells": [
  {
   "cell_type": "markdown",
   "metadata": {},
   "source": [
    "# Agenda\n",
    "\n",
    "1. What is inheritance?\n",
    "2. Reminder: Attributes + ICPO\n",
    "3. Simple inheritance\n",
    "4. `super()` and\n",
    "5. Three paradigms for method inheritance\n",
    "6. Multiple inheritance"
   ]
  },
  {
   "cell_type": "code",
   "execution_count": 1,
   "metadata": {},
   "outputs": [],
   "source": [
    "class Publication:\n",
    "    def __init__(self, name, price):\n",
    "        self.name = name\n",
    "        self.price = price\n",
    "        \n",
    "p = Publication('My Book', 100)        "
   ]
  },
  {
   "cell_type": "code",
   "execution_count": 2,
   "metadata": {},
   "outputs": [
    {
     "data": {
      "text/plain": [
       "'My Book'"
      ]
     },
     "execution_count": 2,
     "metadata": {},
     "output_type": "execute_result"
    }
   ],
   "source": [
    "p.name"
   ]
  },
  {
   "cell_type": "code",
   "execution_count": 3,
   "metadata": {},
   "outputs": [
    {
     "data": {
      "text/plain": [
       "100"
      ]
     },
     "execution_count": 3,
     "metadata": {},
     "output_type": "execute_result"
    }
   ],
   "source": [
    "p.price"
   ]
  },
  {
   "cell_type": "code",
   "execution_count": 4,
   "metadata": {},
   "outputs": [],
   "source": [
    "# DRY -- don't repeat yourself!"
   ]
  },
  {
   "cell_type": "markdown",
   "metadata": {},
   "source": [
    "# Two types of relationships in object-oriented programming\n",
    "\n",
    "1. `has-a`: aka \"composition.\" Means: One object contains another.  Publication has-a name. Publication has-a price. \n",
    "\n",
    "2. `is-a`: aka \"inheritance.\" Means: The child class is just like the parent class, except where otherwise specified. We can take advantage of the work that someone else has done on the parent class."
   ]
  },
  {
   "cell_type": "markdown",
   "metadata": {},
   "source": [
    "# What are attributes?\n",
    "\n",
    "Simplest definition: Every object has a private dictionary, its attributes. We can access these via \".\".\n",
    "\n",
    "Example:\n",
    "\n",
    "```python\n",
    "i = 10\n",
    "print(i.real)   # real_part is an attribute on \"i\"\n",
    "```\n",
    "\n",
    "An attribute can contain any type of data in Python. That includes strings, lists, and tuples, but also functions, modules, and classes.\n",
    "\n",
    "With the exception of built-in types (strings, lists, etc), we can add any attribute we want to any object, whenever we want."
   ]
  },
  {
   "cell_type": "code",
   "execution_count": 7,
   "metadata": {},
   "outputs": [
    {
     "name": "stdout",
     "output_type": "stream",
     "text": [
      "10\n"
     ]
    }
   ],
   "source": [
    "i = 10\n",
    "print(i.real)\n"
   ]
  },
  {
   "cell_type": "code",
   "execution_count": 8,
   "metadata": {},
   "outputs": [
    {
     "data": {
      "text/plain": [
       "{'name': 'My Book', 'price': 100}"
      ]
     },
     "execution_count": 8,
     "metadata": {},
     "output_type": "execute_result"
    }
   ],
   "source": [
    "vars(p)  # what are the attributes of p?"
   ]
  },
  {
   "cell_type": "code",
   "execution_count": 9,
   "metadata": {},
   "outputs": [
    {
     "data": {
      "text/plain": [
       "{'name': 'My Book', 'price': 100, 'self_published': True}"
      ]
     },
     "execution_count": 9,
     "metadata": {},
     "output_type": "execute_result"
    }
   ],
   "source": [
    "p.self_published = True\n",
    "\n",
    "vars(p)"
   ]
  },
  {
   "cell_type": "code",
   "execution_count": 11,
   "metadata": {},
   "outputs": [
    {
     "data": {
      "text/plain": [
       "True"
      ]
     },
     "execution_count": 11,
     "metadata": {},
     "output_type": "execute_result"
    }
   ],
   "source": [
    "p.self_published  # does p have an attribute self_published?  True"
   ]
  },
  {
   "cell_type": "code",
   "execution_count": 12,
   "metadata": {},
   "outputs": [
    {
     "data": {
      "text/plain": [
       "'ABCD'"
      ]
     },
     "execution_count": 12,
     "metadata": {},
     "output_type": "execute_result"
    }
   ],
   "source": [
    "s = 'abcd'\n",
    "s.upper()  # call the \"upper\" method on s"
   ]
  },
  {
   "cell_type": "code",
   "execution_count": 13,
   "metadata": {},
   "outputs": [],
   "source": [
    "# First, Python turns to the instance and asks: Do you have an attribute?\n",
    "#  If so, then we get the value back\n",
    "# If not, then Python turns to the instance's CLASS.  And it asks: Do you have\n",
    "#  the attribute?"
   ]
  },
  {
   "cell_type": "code",
   "execution_count": 15,
   "metadata": {},
   "outputs": [
    {
     "data": {
      "text/plain": [
       "'ABCD'"
      ]
     },
     "execution_count": 15,
     "metadata": {},
     "output_type": "execute_result"
    }
   ],
   "source": [
    "# s.upper -> str.upper(s)\n",
    "\n",
    "str.upper(s)"
   ]
  },
  {
   "cell_type": "markdown",
   "metadata": {},
   "source": [
    "# Search path for attributes\n",
    "\n",
    "- `I` instance (i.e., check on the object that we wanted to get it from)\n",
    "- `C` class (i.e., the type of object that the instance is)\n",
    "- `P` parents (i.e., the parent classes of our class)\n",
    "- `O` object (i.e., the top of our entire object hierarchy)"
   ]
  },
  {
   "cell_type": "code",
   "execution_count": 16,
   "metadata": {},
   "outputs": [
    {
     "name": "stdout",
     "output_type": "stream",
     "text": [
      "Hello, name1!\n",
      "Hello, name2!\n"
     ]
    }
   ],
   "source": [
    "class Person:\n",
    "    def __init__(self, name):   # Person.__init__\n",
    "        self.name = name\n",
    "        \n",
    "    def greet(self):\n",
    "        return f'Hello, {self.name}!'   # Person.greet\n",
    "    \n",
    "p1 = Person('name1')\n",
    "p2 = Person('name2')\n",
    "\n",
    "print(p1.greet())\n",
    "print(p2.greet())"
   ]
  },
  {
   "cell_type": "code",
   "execution_count": 17,
   "metadata": {},
   "outputs": [
    {
     "name": "stdout",
     "output_type": "stream",
     "text": [
      "Hello, name1!\n",
      "Hello, name2!\n",
      "Hello, emp1!\n",
      "Hello, emp2!\n"
     ]
    }
   ],
   "source": [
    "class Person:\n",
    "    def __init__(self, name):   # Person.__init__\n",
    "        self.name = name\n",
    "        \n",
    "    def greet(self):\n",
    "        return f'Hello, {self.name}!'   # Person.greet\n",
    "    \n",
    "p1 = Person('name1')\n",
    "p2 = Person('name2')\n",
    "\n",
    "print(p1.greet())\n",
    "print(p2.greet())\n",
    "\n",
    "\n",
    "class Employee(Person):\n",
    "    def __init__(self, name, id_number):   # Person.__init__\n",
    "        self.name = name\n",
    "        self.id_number = id_number\n",
    "        \n",
    "e1 = Employee('emp1', 1)\n",
    "e2 = Employee('emp2', 2)\n",
    "\n",
    "print(e1.greet())\n",
    "print(e2.greet())"
   ]
  },
  {
   "cell_type": "markdown",
   "metadata": {},
   "source": [
    "# Exercise: Products\n",
    "\n",
    "1. Define a `Product` class, in which each product has a name and a price. Those should be attributes on each individual instance.\n",
    "2. Define a `TaxedProduct` class, in which each product has a name, price, and tax amount. \n",
    "3. There should be a `get_invoice` method on `Product`, which returns a string containing the name of the product and the current price. \n",
    "4. Implement these classes, and *don't* implement `get_invoice` on `TaxedProduct`. And yes, that means the invoice will be wrong!"
   ]
  },
  {
   "cell_type": "code",
   "execution_count": 20,
   "metadata": {},
   "outputs": [
    {
     "data": {
      "text/plain": [
       "{'name': 'apple', 'price': 1}"
      ]
     },
     "execution_count": 20,
     "metadata": {},
     "output_type": "execute_result"
    }
   ],
   "source": [
    "class Product:\n",
    "    def __init__(self, name, price):\n",
    "        self.name = name\n",
    "        self.price = price\n",
    "        \n",
    "    def get_invoice(self):\n",
    "        return f'{self.name} costing {self.price}'\n",
    "    \n",
    "p = Product('apple', 1)\n",
    "vars(p)"
   ]
  },
  {
   "cell_type": "code",
   "execution_count": 21,
   "metadata": {},
   "outputs": [
    {
     "data": {
      "text/plain": [
       "'apple costing 1'"
      ]
     },
     "execution_count": 21,
     "metadata": {},
     "output_type": "execute_result"
    }
   ],
   "source": [
    "p.get_invoice()"
   ]
  },
  {
   "cell_type": "code",
   "execution_count": 22,
   "metadata": {},
   "outputs": [
    {
     "data": {
      "text/plain": [
       "'phone costing 500'"
      ]
     },
     "execution_count": 22,
     "metadata": {},
     "output_type": "execute_result"
    }
   ],
   "source": [
    "class TaxedProduct(Product):\n",
    "    def __init__(self, name, price, tax_amount):\n",
    "        self.name = name\n",
    "        self.price = price\n",
    "        self.tax_amount = tax_amount\n",
    "        \n",
    "tp = TaxedProduct('phone', 500, 0.1)\n",
    "tp.get_invoice()"
   ]
  },
  {
   "cell_type": "code",
   "execution_count": null,
   "metadata": {},
   "outputs": [],
   "source": []
  },
  {
   "cell_type": "code",
   "execution_count": 27,
   "metadata": {},
   "outputs": [
    {
     "name": "stdout",
     "output_type": "stream",
     "text": [
      "Hello, name1!\n",
      "Hello, name2!\n",
      "Hello, emp1!\n",
      "Hello, emp2!\n"
     ]
    }
   ],
   "source": [
    "class Person:\n",
    "    def __init__(self, name):   # Person.__init__\n",
    "        self.name = name\n",
    "        \n",
    "    def greet(self):\n",
    "        return f'Hello, {self.name}!'   # Person.greet\n",
    "    \n",
    "p1 = Person('name1')\n",
    "p2 = Person('name2')\n",
    "\n",
    "print(p1.greet())\n",
    "print(p2.greet())\n",
    "\n",
    "\n",
    "class Employee(Person):\n",
    "    def __init__(self, name, id_number):   # Person.__init__\n",
    "        # Person.__init__(self, name) \n",
    "\n",
    "        super().__init__(name)\n",
    "        self.id_number = id_number\n",
    "        \n",
    "e1 = Employee('emp1', 1)\n",
    "e2 = Employee('emp2', 2)\n",
    "\n",
    "print(e1.greet())\n",
    "print(e2.greet())"
   ]
  },
  {
   "cell_type": "code",
   "execution_count": 24,
   "metadata": {},
   "outputs": [
    {
     "data": {
      "text/plain": [
       "{'id_number': 1}"
      ]
     },
     "execution_count": 24,
     "metadata": {},
     "output_type": "execute_result"
    }
   ],
   "source": [
    "vars(e1)"
   ]
  },
  {
   "cell_type": "code",
   "execution_count": 25,
   "metadata": {},
   "outputs": [
    {
     "data": {
      "text/plain": [
       "{'id_number': 2}"
      ]
     },
     "execution_count": 25,
     "metadata": {},
     "output_type": "execute_result"
    }
   ],
   "source": [
    "vars(e2)"
   ]
  },
  {
   "cell_type": "code",
   "execution_count": 28,
   "metadata": {},
   "outputs": [
    {
     "data": {
      "text/plain": [
       "'phone costing 500'"
      ]
     },
     "execution_count": 28,
     "metadata": {},
     "output_type": "execute_result"
    }
   ],
   "source": [
    "class Product:\n",
    "    def __init__(self, name, price):\n",
    "        self.name = name\n",
    "        self.price = price\n",
    "        \n",
    "    def get_invoice(self):\n",
    "        return f'{self.name} costing {self.price}'\n",
    "    \n",
    "p = Product('apple', 1)\n",
    "\n",
    "class TaxedProduct(Product):\n",
    "    def __init__(self, name, price, tax_amount):\n",
    "        super().__init__(name, price)\n",
    "        self.tax_amount = tax_amount\n",
    "        \n",
    "tp = TaxedProduct('phone', 500, 0.1)\n",
    "tp.get_invoice()"
   ]
  },
  {
   "cell_type": "markdown",
   "metadata": {},
   "source": [
    "# Exercise:  Improve + differentiate our products\n",
    "\n",
    "Improve the `__init__` situation for Product vs. TaxedProduct, using `super()`.\n"
   ]
  },
  {
   "cell_type": "markdown",
   "metadata": {},
   "source": [
    "# Three paradigms for method inheritance\n",
    "\n",
    "1. Do nothing in the child class, and use the implementation in the parent class\n",
    "2. The method in the child class invokes the parent class's method, and then adds its own functionality as well.\n",
    "3. Have a method in the child class that overrides the parent class's method or creates new functionality not found in the parent."
   ]
  },
  {
   "cell_type": "code",
   "execution_count": 30,
   "metadata": {},
   "outputs": [
    {
     "name": "stdout",
     "output_type": "stream",
     "text": [
      "Hello, name1!\n",
      "Hello, name2!\n",
      "Hello, emp1!\n",
      "Hello, emp2!\n",
      "\n",
      "Name: emp1\n",
      "ID: 1\n",
      "\n"
     ]
    }
   ],
   "source": [
    "class Person:\n",
    "    def __init__(self, name):   # Person.__init__\n",
    "        self.name = name\n",
    "        \n",
    "    def greet(self):\n",
    "        return f'Hello, {self.name}!'   # Person.greet\n",
    "    \n",
    "p1 = Person('name1')\n",
    "p2 = Person('name2')\n",
    "\n",
    "print(p1.greet())\n",
    "print(p2.greet())\n",
    "\n",
    "\n",
    "class Employee(Person):\n",
    "    def __init__(self, name, id_number):   # Person.__init__\n",
    "        # Person.__init__(self, name) \n",
    "\n",
    "        super().__init__(name)\n",
    "        self.id_number = id_number\n",
    "        \n",
    "    def employee_badge(self):\n",
    "        return f'Name: {self.name}\\nID: {self.id_number}\\n'\n",
    "        \n",
    "e1 = Employee('emp1', 1)\n",
    "e2 = Employee('emp2', 2)\n",
    "\n",
    "print(e1.greet())\n",
    "print(e2.greet())\n",
    "print()\n",
    "print(e1.employee_badge())"
   ]
  },
  {
   "cell_type": "markdown",
   "metadata": {},
   "source": [
    "# Exercise: Include the tax\n",
    "\n",
    "Define a new `get_invoice` method on the child (`TaxedProduct`) class, which will return an invoice that shows the price, the tax, and the total.  This method should override the `get_invoice` method that we had on the original `Product` parent class."
   ]
  },
  {
   "cell_type": "code",
   "execution_count": 34,
   "metadata": {},
   "outputs": [
    {
     "name": "stdout",
     "output_type": "stream",
     "text": [
      "\n",
      "        Product: phone \n",
      "        Price: 500\n",
      "        Tax: 50.0\n",
      "        Total: 550.0\n",
      "        \n"
     ]
    }
   ],
   "source": [
    "class Product:\n",
    "    def __init__(self, name, price):\n",
    "        self.name = name\n",
    "        self.price = price\n",
    "        \n",
    "    def get_invoice(self):\n",
    "        return f'{self.name} costing {self.price}'\n",
    "    \n",
    "p = Product('apple', 1)\n",
    "\n",
    "class TaxedProduct(Product):\n",
    "    def __init__(self, name, price, tax_amount):\n",
    "        super().__init__(name, price)\n",
    "        self.tax_amount = tax_amount\n",
    "        \n",
    "    def get_invoice(self):\n",
    "        return f'''\n",
    "        Product: {self.name} \n",
    "        Price: {self.price}\n",
    "        Tax: {self.tax_amount * self.price}\n",
    "        Total: {self.price + self.tax_amount * self.price}\n",
    "        '''\n",
    "        \n",
    "tp = TaxedProduct('phone', 500, 0.1)\n",
    "print(tp.get_invoice())"
   ]
  },
  {
   "cell_type": "code",
   "execution_count": 35,
   "metadata": {},
   "outputs": [
    {
     "data": {
      "text/plain": [
       "(__main__.Product,)"
      ]
     },
     "execution_count": 35,
     "metadata": {},
     "output_type": "execute_result"
    }
   ],
   "source": [
    "TaxedProduct.__bases__  # this is where Python stores the inheritance info"
   ]
  },
  {
   "cell_type": "code",
   "execution_count": null,
   "metadata": {},
   "outputs": [],
   "source": [
    "class A:\n",
    "    def __init__(self, x):\n",
    "        sel"
   ]
  }
 ],
 "metadata": {
  "kernelspec": {
   "display_name": "Python 3",
   "language": "python",
   "name": "python3"
  },
  "language_info": {
   "codemirror_mode": {
    "name": "ipython",
    "version": 3
   },
   "file_extension": ".py",
   "mimetype": "text/x-python",
   "name": "python",
   "nbconvert_exporter": "python",
   "pygments_lexer": "ipython3",
   "version": "3.9.4"
  }
 },
 "nbformat": 4,
 "nbformat_minor": 4
}
